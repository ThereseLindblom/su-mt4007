{
 "cells": [
  {
   "cell_type": "markdown",
   "id": "2ef62f7d-bf6c-4679-8fb2-a420be784946",
   "metadata": {},
   "source": [
    "# Homework 3"
   ]
  },
  {
   "cell_type": "markdown",
   "id": "27cdeba9-3aa5-4a68-a0ce-b1648ef71c47",
   "metadata": {},
   "source": [
    "In this notebook we will look at data abour irises, birdwatching and strokes,and clean up a dataset about cellphones."
   ]
  },
  {
   "cell_type": "markdown",
   "id": "4b09c10c-2b89-4908-b1dc-50cfa6b2907e",
   "metadata": {},
   "source": [
    "## Irises"
   ]
  },
  {
   "cell_type": "code",
   "execution_count": null,
   "id": "95a32eec-7ce1-4c4b-bab5-62e8c77a9f7c",
   "metadata": {},
   "outputs": [],
   "source": []
  }
 ],
 "metadata": {
  "kernelspec": {
   "display_name": "Python 3 (ipykernel)",
   "language": "python",
   "name": "python3"
  },
  "language_info": {
   "codemirror_mode": {
    "name": "ipython",
    "version": 3
   },
   "file_extension": ".py",
   "mimetype": "text/x-python",
   "name": "python",
   "nbconvert_exporter": "python",
   "pygments_lexer": "ipython3",
   "version": "3.9.13"
  }
 },
 "nbformat": 4,
 "nbformat_minor": 5
}
