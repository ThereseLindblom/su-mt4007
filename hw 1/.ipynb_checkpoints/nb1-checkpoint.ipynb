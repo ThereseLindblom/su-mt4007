{
 "cells": [
  {
   "cell_type": "markdown",
   "id": "68cda683-7949-47f5-938a-d272b138889c",
   "metadata": {},
   "source": [
    "# The first of many notebooks"
   ]
  },
  {
   "cell_type": "markdown",
   "id": "ef16c738-9982-4f1f-b600-b0f15e4dafcd",
   "metadata": {},
   "source": [
    "Hi, my name is Therese and I have many interests but I mainly dye and spin wool into yarn at the moment."
   ]
  },
  {
   "cell_type": "markdown",
   "id": "45d6b150-ebbd-435e-85b2-a909f3ceffc4",
   "metadata": {},
   "source": [
    "My experience with data science have been sporadic programming and statistics courses during my bachelors program so far, mostly working in python to handle data the university have provided, like making graphs out of data from experiments with artifical clouds and if they have a noticable effect."
   ]
  },
  {
   "cell_type": "code",
   "execution_count": null,
   "id": "dd790ba0-f8f7-4539-b25b-10d06869df0c",
   "metadata": {},
   "outputs": [],
   "source": []
  }
 ],
 "metadata": {
  "kernelspec": {
   "display_name": "Python 3 (ipykernel)",
   "language": "python",
   "name": "python3"
  },
  "language_info": {
   "codemirror_mode": {
    "name": "ipython",
    "version": 3
   },
   "file_extension": ".py",
   "mimetype": "text/x-python",
   "name": "python",
   "nbconvert_exporter": "python",
   "pygments_lexer": "ipython3",
   "version": "3.9.13"
  }
 },
 "nbformat": 4,
 "nbformat_minor": 5
}
